{
 "cells": [
  {
   "cell_type": "markdown",
   "metadata": {
    "collapsed": true
   },
   "source": [
    "# The best genre to develop a free app\n",
    "\n",
    "In 2019, the App Store generated 54.2 billion dollars of revenue, even though, as of march 2020, only 9.6% of the apps on the App Store were paid (Clement, 2020). In fact, 98% of app revenue worldwide comes from free apps. How do they do it? Free apps have two main ways of generating a profit, one could be the so-called \"Freemium\" model, in which an app is offered for free, but it offers optional in-app purchases for additional content, subscriptions or digital goods.\n",
    "\n",
    "Another way is that many free apps include ads, under this model, the more people that use the app, the better. This type of apps will be the main focus on this project. \n",
    "\n",
    "It is important for an app developer to know which apps are the ones the market is looking for and that don't have a tight competition. This project tries to explain which genre of free apps is more likely to attract more users, which could make them profitable through the use of ads."
   ]
  },
  {
   "cell_type": "markdown",
   "metadata": {},
   "source": [
    "## Exploring the data\n",
    "\n",
    "As of January 2020, there were approximately 1.8 million apps available on the App Store and 2.5 million apps on Google Play.\n",
    "Analyzing this amount of data is not a simple task, so we will take a sample of the two stores.\n",
    "\n",
    "* For the Google Play store I used the following [data set](https://www.kaggle.com/lava18/google-play-store-apps), which contains the information of 10,000 apps. This data set was collected in August 2018.\n",
    "\n",
    "* For the App Store I used this [data set](https://www.kaggle.com/ramamet4/app-store-apple-data-set-10k-apps), which includes information of around 7,000 apps. This data was collected in July 2017."
   ]
  },
  {
   "cell_type": "code",
   "execution_count": 1,
   "metadata": {
    "collapsed": true
   },
   "outputs": [],
   "source": [
    "def explore_data(dataset, start, end, rows_and_columns=False):\n",
    "    dataset_slice = dataset[start:end]    \n",
    "    for row in dataset_slice:\n",
    "        print(row)\n",
    "        print('\\n') # adds a new (empty) line after each row\n",
    "\n",
    "    if rows_and_columns:\n",
    "        print('Number of rows:', len(dataset))\n",
    "        print('Number of columns:', len(dataset[0]))"
   ]
  },
  {
   "cell_type": "code",
   "execution_count": 2,
   "metadata": {
    "collapsed": false
   },
   "outputs": [],
   "source": [
    "from csv import reader\n",
    "\n",
    "### Google Play data set ###\n",
    "open_file=open(\"googleplaystore.csv\")\n",
    "read_file=reader(open_file)\n",
    "gpa=list(read_file)\n",
    "gpa_header=gpa[0]\n",
    "gpa_data=gpa[1:]\n",
    "\n",
    "### App Store data set ###\n",
    "open_file=open(\"AppleStore.csv\")\n",
    "read_file=reader(open_file)\n",
    "apa=list(read_file)\n",
    "apa_header=apa[0]\n",
    "apa_data=apa[1:]"
   ]
  },
  {
   "cell_type": "code",
   "execution_count": 3,
   "metadata": {
    "collapsed": false
   },
   "outputs": [
    {
     "name": "stdout",
     "output_type": "stream",
     "text": [
      "['App', 'Category', 'Rating', 'Reviews', 'Size', 'Installs', 'Type', 'Price', 'Content Rating', 'Genres', 'Last Updated', 'Current Ver', 'Android Ver']\n",
      "\n",
      "\n",
      "['Coloring book moana', 'ART_AND_DESIGN', '3.9', '967', '14M', '500,000+', 'Free', '0', 'Everyone', 'Art & Design;Pretend Play', 'January 15, 2018', '2.0.0', '4.0.3 and up']\n",
      "\n",
      "\n",
      "['U Launcher Lite – FREE Live Cool Themes, Hide Apps', 'ART_AND_DESIGN', '4.7', '87510', '8.7M', '5,000,000+', 'Free', '0', 'Everyone', 'Art & Design', 'August 1, 2018', '1.2.4', '4.0.3 and up']\n",
      "\n",
      "\n",
      "['Sketch - Draw & Paint', 'ART_AND_DESIGN', '4.5', '215644', '25M', '50,000,000+', 'Free', '0', 'Teen', 'Art & Design', 'June 8, 2018', 'Varies with device', '4.2 and up']\n",
      "\n",
      "\n",
      "Number of rows: 10841\n",
      "Number of columns: 13\n",
      "None\n"
     ]
    }
   ],
   "source": [
    "### Exploring Google Store data set ###\n",
    "print(gpa_header)\n",
    "print(\"\\n\")\n",
    "print(explore_data(gpa_data,1,4,rows_and_columns=True))"
   ]
  },
  {
   "cell_type": "markdown",
   "metadata": {},
   "source": [
    "As we can see this data set contains the information of 10,841 apps. Some columns that might be useful for our analysis are 'App', 'Category','Reviews', 'Installs', 'Price' and 'Type'.\n",
    "\n",
    "You can find the description for each column [here](https://www.kaggle.com/lava18/google-play-store-apps).\n",
    "\n",
    "Now, let's take a look at the App Store Data set:"
   ]
  },
  {
   "cell_type": "code",
   "execution_count": 4,
   "metadata": {
    "collapsed": false
   },
   "outputs": [
    {
     "name": "stdout",
     "output_type": "stream",
     "text": [
      "['id', 'track_name', 'size_bytes', 'currency', 'price', 'rating_count_tot', 'rating_count_ver', 'user_rating', 'user_rating_ver', 'ver', 'cont_rating', 'prime_genre', 'sup_devices.num', 'ipadSc_urls.num', 'lang.num', 'vpp_lic']\n",
      "\n",
      "\n",
      "['389801252', 'Instagram', '113954816', 'USD', '0.0', '2161558', '1289', '4.5', '4.0', '10.23', '12+', 'Photo & Video', '37', '0', '29', '1']\n",
      "\n",
      "\n",
      "['529479190', 'Clash of Clans', '116476928', 'USD', '0.0', '2130805', '579', '4.5', '4.5', '9.24.12', '9+', 'Games', '38', '5', '18', '1']\n",
      "\n",
      "\n",
      "['420009108', 'Temple Run', '65921024', 'USD', '0.0', '1724546', '3842', '4.5', '4.0', '1.6.2', '9+', 'Games', '40', '5', '1', '1']\n",
      "\n",
      "\n",
      "Number of rows: 7197\n",
      "Number of columns: 16\n",
      "None\n"
     ]
    }
   ],
   "source": [
    "### Exploring App Store data set ###\n",
    "print(apa_header)\n",
    "print(\"\\n\")\n",
    "print(explore_data(apa_data,1,4,rows_and_columns=True))"
   ]
  },
  {
   "cell_type": "markdown",
   "metadata": {},
   "source": [
    "This data set contains the information of 7197 apps. The columns that might help us with our analysis are 'price', 'user_rating', 'cont_rating'and 'prime_genre'.\n",
    "\n",
    "You can find the description for each column [here](https://www.kaggle.com/ramamet4/app-store-apple-data-set-10k-apps)."
   ]
  },
  {
   "cell_type": "markdown",
   "metadata": {},
   "source": [
    "## Cleaning the Data\n",
    "\n",
    "### Duplicates and missing values\n",
    "\n",
    "#### Google Play data set\n",
    "\n",
    "Looking through the [discussion section](https://www.kaggle.com/lava18/google-play-store-apps/discussion) for the Google Play data set, [one of the discussions](https://www.kaggle.com/lava18/google-play-store-apps/discussion/66015) mentions that there is an error on row 10472, so let's check out that row."
   ]
  },
  {
   "cell_type": "code",
   "execution_count": 5,
   "metadata": {
    "collapsed": false,
    "scrolled": true
   },
   "outputs": [
    {
     "name": "stdout",
     "output_type": "stream",
     "text": [
      "['App', 'Category', 'Rating', 'Reviews', 'Size', 'Installs', 'Type', 'Price', 'Content Rating', 'Genres', 'Last Updated', 'Current Ver', 'Android Ver'] \n",
      " 13\n",
      "\n",
      "\n",
      "['Life Made WI-Fi Touchscreen Photo Frame', '1.9', '19', '3.0M', '1,000+', 'Free', '0', 'Everyone', '', 'February 11, 2018', '1.0.19', '4.0 and up'] \n",
      " 12\n"
     ]
    }
   ],
   "source": [
    "## Printing row 10472\n",
    "print(gpa_header,\"\\n\",len(gpa_header))\n",
    "print(\"\\n\")\n",
    "print(gpa_data[10472],\"\\n\",len(gpa_data[10472]))"
   ]
  },
  {
   "cell_type": "markdown",
   "metadata": {},
   "source": [
    "We can see that the length of the header and the length of that row vary, inspection of that row reveals that this is because the 'category' column is missing.\n",
    "We are going to go ahead and delete that row."
   ]
  },
  {
   "cell_type": "code",
   "execution_count": 6,
   "metadata": {
    "collapsed": false
   },
   "outputs": [
    {
     "name": "stdout",
     "output_type": "stream",
     "text": [
      "10841\n",
      "10840\n"
     ]
    }
   ],
   "source": [
    "print(len(gpa_data))\n",
    "del gpa_data[10472]\n",
    "print(len(gpa_data))"
   ]
  },
  {
   "cell_type": "markdown",
   "metadata": {},
   "source": [
    "While looking through other discussions, some apps have duplicate values. For instance, if we look for \"Instagram\" on our data set, we'll get several entries with different number of reviews:"
   ]
  },
  {
   "cell_type": "code",
   "execution_count": 7,
   "metadata": {
    "collapsed": false
   },
   "outputs": [
    {
     "name": "stdout",
     "output_type": "stream",
     "text": [
      "['Instagram', 'SOCIAL', '4.5', '66577313', 'Varies with device', '1,000,000,000+', 'Free', '0', 'Teen', 'Social', 'July 31, 2018', 'Varies with device', 'Varies with device']\n",
      "['Instagram', 'SOCIAL', '4.5', '66577446', 'Varies with device', '1,000,000,000+', 'Free', '0', 'Teen', 'Social', 'July 31, 2018', 'Varies with device', 'Varies with device']\n",
      "['Instagram', 'SOCIAL', '4.5', '66577313', 'Varies with device', '1,000,000,000+', 'Free', '0', 'Teen', 'Social', 'July 31, 2018', 'Varies with device', 'Varies with device']\n",
      "['Instagram', 'SOCIAL', '4.5', '66509917', 'Varies with device', '1,000,000,000+', 'Free', '0', 'Teen', 'Social', 'July 31, 2018', 'Varies with device', 'Varies with device']\n"
     ]
    }
   ],
   "source": [
    "for app in gpa_data:\n",
    "    name=app[0]\n",
    "    \n",
    "    if name==\"Instagram\":\n",
    "        print(app)"
   ]
  },
  {
   "cell_type": "markdown",
   "metadata": {},
   "source": [
    "Let's find out how many and which apps are duplicated:"
   ]
  },
  {
   "cell_type": "code",
   "execution_count": 8,
   "metadata": {
    "collapsed": false
   },
   "outputs": [
    {
     "name": "stdout",
     "output_type": "stream",
     "text": [
      "Number of duplicated apps:  1181 \n",
      "\n",
      "Number of unique apps :  9659 \n",
      "\n",
      "Apps that are duplicated: \n",
      " ['Quick PDF Scanner + OCR FREE', 'Box', 'Google My Business', 'ZOOM Cloud Meetings', 'join.me - Simple Meetings']\n"
     ]
    }
   ],
   "source": [
    "dup_apps=[]\n",
    "unique_apps=[]\n",
    "\n",
    "for app in gpa_data:\n",
    "    name=app[0]\n",
    "    \n",
    "    if name in unique_apps:\n",
    "        dup_apps.append(name)\n",
    "        \n",
    "    else:\n",
    "        unique_apps.append(name)\n",
    "\n",
    "print(\"Number of duplicated apps: \",len(dup_apps),\"\\n\")\n",
    "print(\"Number of unique apps : \",len(unique_apps),\"\\n\")\n",
    "print(\"Apps that are duplicated:\",\"\\n\",dup_apps[:5])"
   ]
  },
  {
   "cell_type": "markdown",
   "metadata": {},
   "source": [
    "As we've seen, the only difference between these duplicate values is the number of reviews, this means that the more reviews there is, the more recent the data is. We're going to take the most recent data and remove the rest for each of the duplicated apps.\n",
    "\n",
    "In order to do that, we will:\n",
    "\n",
    "* Create a dictionary, where each key is a unique app name and the corresponding dictionary value is the highest rating.\n",
    "* Use this dictionary to create a new data set with no duplicates.\n",
    "\n",
    "First, we create a dictionary that stores an unique name app with the corresponding highest number of reviews."
   ]
  },
  {
   "cell_type": "code",
   "execution_count": 9,
   "metadata": {
    "collapsed": false
   },
   "outputs": [],
   "source": [
    "max_review={}\n",
    "\n",
    "for app in gpa_data:\n",
    "    name=app[0]\n",
    "    nrating=float(app[3])\n",
    "    \n",
    "    if name in max_review and nrating>max_review[name]:\n",
    "        max_review[name]=nrating\n",
    "        \n",
    "    if name not in max_review:\n",
    "        max_review[name]=nrating"
   ]
  },
  {
   "cell_type": "markdown",
   "metadata": {},
   "source": [
    "To ensure everything went correctly, let's calculate the number of rows that we should have."
   ]
  },
  {
   "cell_type": "code",
   "execution_count": 10,
   "metadata": {
    "collapsed": false
   },
   "outputs": [
    {
     "name": "stdout",
     "output_type": "stream",
     "text": [
      "Number of rows we should have:  9659\n",
      "Number of rows we have:  9659\n"
     ]
    }
   ],
   "source": [
    "print(\"Number of rows we should have: \",len(gpa_data)-len(dup_apps))\n",
    "print(\"Number of rows we have: \",len(max_review))"
   ]
  },
  {
   "cell_type": "markdown",
   "metadata": {},
   "source": [
    "Perfect, everything went as expected.\n",
    "\n",
    "Now, let's use the 'max_review' dictionary to create a new data set 'gpa_clean' which has no duplicated rows."
   ]
  },
  {
   "cell_type": "code",
   "execution_count": 11,
   "metadata": {
    "collapsed": false
   },
   "outputs": [
    {
     "name": "stdout",
     "output_type": "stream",
     "text": [
      "['U Launcher Lite – FREE Live Cool Themes, Hide Apps', 'ART_AND_DESIGN', '4.7', '87510', '8.7M', '5,000,000+', 'Free', '0', 'Everyone', 'Art & Design', 'August 1, 2018', '1.2.4', '4.0.3 and up']\n",
      "\n",
      "\n",
      "['Sketch - Draw & Paint', 'ART_AND_DESIGN', '4.5', '215644', '25M', '50,000,000+', 'Free', '0', 'Teen', 'Art & Design', 'June 8, 2018', 'Varies with device', '4.2 and up']\n",
      "\n",
      "\n",
      "['Pixel Draw - Number Art Coloring Book', 'ART_AND_DESIGN', '4.3', '967', '2.8M', '100,000+', 'Free', '0', 'Everyone', 'Art & Design;Creativity', 'June 20, 2018', '1.1', '4.4 and up']\n",
      "\n",
      "\n",
      "['Paper flowers instructions', 'ART_AND_DESIGN', '4.4', '167', '5.6M', '50,000+', 'Free', '0', 'Everyone', 'Art & Design', 'March 26, 2017', '1.0', '2.3 and up']\n",
      "\n",
      "\n",
      "Number of rows: 9659\n",
      "Number of columns: 13\n"
     ]
    }
   ],
   "source": [
    "gpa_clean=[]\n",
    "apps_added=[] #Some apps are repeated AND have the same rating\n",
    "\n",
    "for app in gpa_data:\n",
    "    name=app[0]\n",
    "    nrating=float(app[3])\n",
    "    \n",
    "    if nrating==max_review[name] and (name not in apps_added):\n",
    "        gpa_clean.append(app)\n",
    "        apps_added.append(name)\n",
    "        \n",
    "explore_data(gpa_clean,1,5,True)"
   ]
  },
  {
   "cell_type": "markdown",
   "metadata": {},
   "source": [
    "The new data set contains the number of rows that it should and it looks like the rows are correct.\n",
    "Note that I added the 'apps_added' variable because some apps had repeated entries but had the same rating, which would cause the data set to have more rows than it should."
   ]
  },
  {
   "cell_type": "markdown",
   "metadata": {},
   "source": [
    "#### App Store data set\n",
    "\n",
    "Let's analyze if this data set contains any duplicated values:"
   ]
  },
  {
   "cell_type": "code",
   "execution_count": 12,
   "metadata": {
    "collapsed": false
   },
   "outputs": [
    {
     "name": "stdout",
     "output_type": "stream",
     "text": [
      "This data set contains  2  duplicates.\n"
     ]
    }
   ],
   "source": [
    "duplicates=[]\n",
    "app_checked=[]\n",
    "\n",
    "for app in apa_data:\n",
    "    name=app[1]\n",
    "    \n",
    "    if name in app_checked:\n",
    "        duplicates.append(name)\n",
    "    else:\n",
    "        app_checked.append(name)\n",
    "        \n",
    "print(\"This data set contains \",len(duplicates),\" duplicates.\")"
   ]
  },
  {
   "cell_type": "markdown",
   "metadata": {},
   "source": [
    "It seems to have two duplicates, however on the [App Store data set discussion section](https://www.kaggle.com/ramamet4/app-store-apple-data-set-10k-apps/discussion), there is a discussion about two apps that may be duplicated, but even though these apps have the exact same name, these are two different apps. You can read more about that [here](https://www.kaggle.com/ramamet4/app-store-apple-data-set-10k-apps/discussion/90409).\n",
    "\n",
    "Now that we've removed duplicate values and missing values on both data sets, we're going to extract the relevant data for our analysis.\n",
    "\n",
    "### Relevant Data\n",
    "\n",
    "In this analysis I decided to focus on apps that are free, which could get their revenue through advertisements. Also, while exploring both data sets, I noticed that some of the app names are not in English. Because I want to analyze which apps could attract a higher number of users, I'm going to remove these type of apps.\n",
    "\n",
    "#### Removing non-English apps\n",
    "\n",
    "Here's an example of two apps that I want to remove:"
   ]
  },
  {
   "cell_type": "code",
   "execution_count": 13,
   "metadata": {
    "collapsed": false
   },
   "outputs": [
    {
     "name": "stdout",
     "output_type": "stream",
     "text": [
      "爱奇艺PPS -《欢乐颂2》电视剧热播 \n",
      "\n",
      "لعبة تقدر تربح DZ\n"
     ]
    }
   ],
   "source": [
    "print(apa_data[813][1],\"\\n\")\n",
    "print(gpa_clean[7940][0])"
   ]
  },
  {
   "cell_type": "markdown",
   "metadata": {},
   "source": [
    "In order to remove both of these apps, I'm going to iterate through each character of every app name, and determine if that character is a character commonly used on the English language.\n",
    "\n",
    "Each character on the English language [has an associated number between 0 and 127](https://elcodigoascii.com.ar/). The 'ord()' function returns the number associated with each character and if any character is greater than 127, we'll classify that as a non-English app."
   ]
  },
  {
   "cell_type": "code",
   "execution_count": 14,
   "metadata": {
    "collapsed": false
   },
   "outputs": [
    {
     "name": "stdout",
     "output_type": "stream",
     "text": [
      "True\n",
      "False\n"
     ]
    }
   ],
   "source": [
    "def english_word(word):\n",
    "        for char in word:\n",
    "            if ord(char)>127:\n",
    "                return False\n",
    "        return True\n",
    "    \n",
    "print(english_word(\"Instagram\"))\n",
    "print(english_word(\"爱奇艺PPS -《欢乐颂2》电视剧热播\"))"
   ]
  },
  {
   "cell_type": "markdown",
   "metadata": {},
   "source": [
    "Now, this function works most of the time, there are some cases where we have English characters but we also have special characters, for example:"
   ]
  },
  {
   "cell_type": "code",
   "execution_count": 15,
   "metadata": {
    "collapsed": false
   },
   "outputs": [
    {
     "name": "stdout",
     "output_type": "stream",
     "text": [
      "False\n",
      "False\n"
     ]
    }
   ],
   "source": [
    "print(english_word(\"Docs To Go™ Free Office Suite\"))\n",
    "print(english_word(\"Instachat 😜\"))"
   ]
  },
  {
   "cell_type": "markdown",
   "metadata": {},
   "source": [
    "Both of these cases are clearly in English but because of '™' and '😜' our function assumes they are not in English, which would cause a loss of data. To fix that, we will add a condition where only if three or more characters are detected as non-English characters, we classify the word as non-English."
   ]
  },
  {
   "cell_type": "code",
   "execution_count": 16,
   "metadata": {
    "collapsed": false
   },
   "outputs": [
    {
     "name": "stdout",
     "output_type": "stream",
     "text": [
      "True\n",
      "True\n",
      "False\n"
     ]
    }
   ],
   "source": [
    "def english_word(word):\n",
    "    nchar=0\n",
    "    \n",
    "    for char in word:\n",
    "        if ord(char)>127:\n",
    "            nchar+=1\n",
    "            \n",
    "    if nchar>3:\n",
    "        return False\n",
    "    else:\n",
    "        return True\n",
    "\n",
    "print(english_word(\"Docs To Go™ Free Office Suite\"))\n",
    "print(english_word(\"Instachat 😜\"))\n",
    "print(english_word(\"爱奇艺PPS -《欢乐颂2》电视剧热播\"))"
   ]
  },
  {
   "cell_type": "markdown",
   "metadata": {},
   "source": [
    "This solution is far from perfect as non-English app names that contain less than three non-English characters will go through, and an English app name with four or more special characters will get deleted. Still, it should be effective enough for our analysis.\n",
    "\n",
    "Let's apply the function to both data sets:"
   ]
  },
  {
   "cell_type": "code",
   "execution_count": 17,
   "metadata": {
    "collapsed": false
   },
   "outputs": [
    {
     "name": "stdout",
     "output_type": "stream",
     "text": [
      "['Photo Editor & Candy Camera & Grid & ScrapBook', 'ART_AND_DESIGN', '4.1', '159', '19M', '10,000+', 'Free', '0', 'Everyone', 'Art & Design', 'January 7, 2018', '1.0.0', '4.0.3 and up']\n",
      "\n",
      "\n",
      "Number of rows: 9614\n",
      "Number of columns: 13\n",
      "\n",
      "\n",
      "App Store data set\n",
      "['284882215', 'Facebook', '389879808', 'USD', '0.0', '2974676', '212', '3.5', '3.5', '95.0', '4+', 'Social Networking', '37', '1', '29', '1']\n",
      "\n",
      "\n",
      "Number of rows: 6183\n",
      "Number of columns: 16\n"
     ]
    }
   ],
   "source": [
    "### Google Play data set ###\n",
    "english_GP=[]\n",
    "for app in gpa_clean:\n",
    "    name=app[0]\n",
    "    if english_word(name):\n",
    "        english_GP.append(app)\n",
    "\n",
    "# print(\"Google Play data set:\")\n",
    "explore_data(english_GP,0,1,True)\n",
    "\n",
    "### App Store data set ###\n",
    "english_AS=[]\n",
    "for app in apa_data:\n",
    "    name=app[1]\n",
    "    if english_word(name):\n",
    "        english_AS.append(app)\n",
    "        \n",
    "print(\"\\n\")\n",
    "print(\"App Store data set\")\n",
    "explore_data(english_AS,0,1,True)"
   ]
  },
  {
   "cell_type": "markdown",
   "metadata": {},
   "source": [
    "The Google Play data set now has 9,614 apps and the App Store data set now has 6,183."
   ]
  },
  {
   "cell_type": "markdown",
   "metadata": {},
   "source": [
    "#### Removing non-free apps\n",
    "\n",
    "As I mentioned before, we're only interested in apps whose only source of revenue consists of ads. This means we have to extract the apps which are free by using the price column on both data sets."
   ]
  },
  {
   "cell_type": "code",
   "execution_count": 18,
   "metadata": {
    "collapsed": false
   },
   "outputs": [
    {
     "name": "stdout",
     "output_type": "stream",
     "text": [
      "Google Play data set:  8864\n",
      "\n",
      "\n",
      "App Store data set:  3222\n"
     ]
    }
   ],
   "source": [
    "### Free Apps ###\n",
    "#### Google Play data set ####\n",
    "GooglePlay=[]\n",
    "\n",
    "for app in english_GP:\n",
    "    price=app[7]\n",
    "    if price==\"0\":\n",
    "        GooglePlay.append(app)\n",
    "\n",
    "print(\"Google Play data set: \",len(GooglePlay))\n",
    "\n",
    "\n",
    "#### App Store data set ####\n",
    "AppStore=[]\n",
    "var=english_AS[1][4]\n",
    "\n",
    "for app in english_AS:\n",
    "    price=app[4]\n",
    "    if price==var:\n",
    "        AppStore.append(app)\n",
    "\n",
    "print(\"\\n\")\n",
    "print(\"App Store data set: \",len(AppStore))"
   ]
  },
  {
   "cell_type": "markdown",
   "metadata": {
    "collapsed": false
   },
   "source": [
    "We are left with 8,864 free apps on English on the Google Play Store and 3,222 on the App Store. This is the data we're going to analyze."
   ]
  },
  {
   "cell_type": "markdown",
   "metadata": {},
   "source": [
    "## Analyzing the data\n",
    "\n",
    "Because of the wider reach an app can have by being on both the App Store and the Google Play Store, I want to find characteristics that can be successful on both markets. \n",
    "\n",
    "A good initial approach could be analyzing the apps by genre. Let's create two frequency tables with the genres of both stores to get a sense of which are the most common. For this, we will use the 'prime_genre' column on the App Store data set and the 'category' and 'genre' columns on the Google Play Store data set.\n",
    "\n",
    "Here, we create a function that returns a frequency table in percentages and another function that sorts it in descending order:"
   ]
  },
  {
   "cell_type": "code",
   "execution_count": 19,
   "metadata": {
    "collapsed": true
   },
   "outputs": [],
   "source": [
    "def freq_table(dataset,index):\n",
    "    dict={}\n",
    "    \n",
    "    for row in dataset:\n",
    "        var=row[index]\n",
    "        if var in dict:\n",
    "            dict[var]+=1\n",
    "        else:\n",
    "            dict[var]=1\n",
    "            \n",
    "    for bin in dict:\n",
    "        dict[bin]=round(dict[bin]*100/len(dataset),2)\n",
    "    return dict\n",
    "\n",
    "def display_table(dataset, index):\n",
    "    table = freq_table(dataset, index)\n",
    "    table_display = []\n",
    "    for key in table:\n",
    "        key_val_as_tuple = (table[key], key)\n",
    "        table_display.append(key_val_as_tuple)\n",
    "\n",
    "    table_sorted = sorted(table_display, reverse = True)\n",
    "    for entry in table_sorted:\n",
    "        print(entry[1], ':', entry[0])"
   ]
  },
  {
   "cell_type": "markdown",
   "metadata": {},
   "source": [
    "### Most common genres on the App Store \n",
    "\n",
    "Using this functions, the most common app genres on the App Store are:"
   ]
  },
  {
   "cell_type": "code",
   "execution_count": 20,
   "metadata": {
    "collapsed": false
   },
   "outputs": [
    {
     "name": "stdout",
     "output_type": "stream",
     "text": [
      "Games : 58.16\n",
      "Entertainment : 7.88\n",
      "Photo & Video : 4.97\n",
      "Education : 3.66\n",
      "Social Networking : 3.29\n",
      "Shopping : 2.61\n",
      "Utilities : 2.51\n",
      "Sports : 2.14\n",
      "Music : 2.05\n",
      "Health & Fitness : 2.02\n",
      "Productivity : 1.74\n",
      "Lifestyle : 1.58\n",
      "News : 1.33\n",
      "Travel : 1.24\n",
      "Finance : 1.12\n",
      "Weather : 0.87\n",
      "Food & Drink : 0.81\n",
      "Reference : 0.56\n",
      "Business : 0.53\n",
      "Book : 0.43\n",
      "Navigation : 0.19\n",
      "Medical : 0.19\n",
      "Catalogs : 0.12\n"
     ]
    }
   ],
   "source": [
    "display_table(AppStore,11)"
   ]
  },
  {
   "cell_type": "markdown",
   "metadata": {},
   "source": [
    "The most common genre of free, English-speaking apps is 'Games' by a big margin with 58.16%, followed by 'Entertainment' with 7.88% and 'Photo & Video' with 7.88%.\n",
    "'Education' apps represent the 3.66%, while Social Networking makes up only 3.29% of the total.\n",
    "\n",
    "The top three apps are apps designed for enterntainment and for people to use on their free time. These are followed by 'Education', 'Social Networking' and 'Shopping', which are apps designed for more practical purposes. \n",
    "\n",
    "Now, the fact that there are more gaming on the App Store, does not necessarily mean that this genre will have a large number of downloads. We will have to do further analysis to determine if availability is correlated with number of downloads."
   ]
  },
  {
   "cell_type": "markdown",
   "metadata": {},
   "source": [
    "### Most common genres on the Google Play Store\n",
    "\n",
    "The most common genres on the Google Play Store by the 'category' column are:"
   ]
  },
  {
   "cell_type": "code",
   "execution_count": 21,
   "metadata": {
    "collapsed": false
   },
   "outputs": [
    {
     "name": "stdout",
     "output_type": "stream",
     "text": [
      "FAMILY : 18.91\n",
      "GAME : 9.72\n",
      "TOOLS : 8.46\n",
      "BUSINESS : 4.59\n",
      "LIFESTYLE : 3.9\n",
      "PRODUCTIVITY : 3.89\n",
      "FINANCE : 3.7\n",
      "MEDICAL : 3.53\n",
      "SPORTS : 3.4\n",
      "PERSONALIZATION : 3.32\n",
      "COMMUNICATION : 3.24\n",
      "HEALTH_AND_FITNESS : 3.08\n",
      "PHOTOGRAPHY : 2.94\n",
      "NEWS_AND_MAGAZINES : 2.8\n",
      "SOCIAL : 2.66\n",
      "TRAVEL_AND_LOCAL : 2.34\n",
      "SHOPPING : 2.25\n",
      "BOOKS_AND_REFERENCE : 2.14\n",
      "DATING : 1.86\n",
      "VIDEO_PLAYERS : 1.79\n",
      "MAPS_AND_NAVIGATION : 1.4\n",
      "FOOD_AND_DRINK : 1.24\n",
      "EDUCATION : 1.16\n",
      "ENTERTAINMENT : 0.96\n",
      "LIBRARIES_AND_DEMO : 0.94\n",
      "AUTO_AND_VEHICLES : 0.93\n",
      "HOUSE_AND_HOME : 0.82\n",
      "WEATHER : 0.8\n",
      "EVENTS : 0.71\n",
      "PARENTING : 0.65\n",
      "ART_AND_DESIGN : 0.64\n",
      "COMICS : 0.62\n",
      "BEAUTY : 0.6\n"
     ]
    }
   ],
   "source": [
    "display_table(GooglePlay,1)"
   ]
  },
  {
   "cell_type": "markdown",
   "metadata": {},
   "source": [
    "The most common genre on the Google Play Store according to the 'category' column is 'Family' with 18.91%, followed by 'Game' with 9.72%. Interestingly, the top app is not as dominating as it was on the App Store data set.\n",
    "\n",
    "The 'Games' category also differs greatly from what we have on the App Store. Here this category is not even the top app and it is 48.44% below the equivalent category on the App Store.\n",
    "\n",
    "Taking a look at the Google Play Store, most of the apps on the \"Family\" category are games made for children. Even then, the difference on the proportion of games with the App Store is important."
   ]
  },
  {
   "cell_type": "markdown",
   "metadata": {},
   "source": [
    "#### Most common genres by the 'genre' column\n",
    "\n",
    "The most common genres on the Google Play data set by the 'genre' column are:"
   ]
  },
  {
   "cell_type": "code",
   "execution_count": 22,
   "metadata": {
    "collapsed": false
   },
   "outputs": [
    {
     "name": "stdout",
     "output_type": "stream",
     "text": [
      "Tools : 8.45\n",
      "Entertainment : 6.07\n",
      "Education : 5.35\n",
      "Business : 4.59\n",
      "Productivity : 3.89\n",
      "Lifestyle : 3.89\n",
      "Finance : 3.7\n",
      "Medical : 3.53\n",
      "Sports : 3.46\n",
      "Personalization : 3.32\n",
      "Communication : 3.24\n",
      "Action : 3.1\n",
      "Health & Fitness : 3.08\n",
      "Photography : 2.94\n",
      "News & Magazines : 2.8\n",
      "Social : 2.66\n",
      "Travel & Local : 2.32\n",
      "Shopping : 2.25\n",
      "Books & Reference : 2.14\n",
      "Simulation : 2.04\n",
      "Dating : 1.86\n",
      "Arcade : 1.85\n",
      "Video Players & Editors : 1.77\n",
      "Casual : 1.76\n",
      "Maps & Navigation : 1.4\n",
      "Food & Drink : 1.24\n",
      "Puzzle : 1.13\n",
      "Racing : 0.99\n",
      "Role Playing : 0.94\n",
      "Libraries & Demo : 0.94\n",
      "Auto & Vehicles : 0.93\n",
      "Strategy : 0.91\n",
      "House & Home : 0.82\n",
      "Weather : 0.8\n",
      "Events : 0.71\n",
      "Adventure : 0.68\n",
      "Comics : 0.61\n",
      "Beauty : 0.6\n",
      "Art & Design : 0.6\n",
      "Parenting : 0.5\n",
      "Card : 0.45\n",
      "Casino : 0.43\n",
      "Trivia : 0.42\n",
      "Educational;Education : 0.39\n",
      "Board : 0.38\n",
      "Educational : 0.37\n",
      "Education;Education : 0.34\n",
      "Word : 0.26\n",
      "Casual;Pretend Play : 0.24\n",
      "Music : 0.2\n",
      "Racing;Action & Adventure : 0.17\n",
      "Puzzle;Brain Games : 0.17\n",
      "Entertainment;Music & Video : 0.17\n",
      "Casual;Brain Games : 0.14\n",
      "Casual;Action & Adventure : 0.14\n",
      "Arcade;Action & Adventure : 0.12\n",
      "Action;Action & Adventure : 0.1\n",
      "Educational;Pretend Play : 0.09\n",
      "Simulation;Action & Adventure : 0.08\n",
      "Parenting;Education : 0.08\n",
      "Entertainment;Brain Games : 0.08\n",
      "Board;Brain Games : 0.08\n",
      "Parenting;Music & Video : 0.07\n",
      "Educational;Brain Games : 0.07\n",
      "Casual;Creativity : 0.07\n",
      "Art & Design;Creativity : 0.07\n",
      "Education;Pretend Play : 0.06\n",
      "Role Playing;Pretend Play : 0.05\n",
      "Education;Creativity : 0.05\n",
      "Role Playing;Action & Adventure : 0.03\n",
      "Puzzle;Action & Adventure : 0.03\n",
      "Entertainment;Creativity : 0.03\n",
      "Entertainment;Action & Adventure : 0.03\n",
      "Educational;Creativity : 0.03\n",
      "Educational;Action & Adventure : 0.03\n",
      "Education;Music & Video : 0.03\n",
      "Education;Brain Games : 0.03\n",
      "Education;Action & Adventure : 0.03\n",
      "Adventure;Action & Adventure : 0.03\n",
      "Video Players & Editors;Music & Video : 0.02\n",
      "Sports;Action & Adventure : 0.02\n",
      "Simulation;Pretend Play : 0.02\n",
      "Puzzle;Creativity : 0.02\n",
      "Music;Music & Video : 0.02\n",
      "Entertainment;Pretend Play : 0.02\n",
      "Casual;Education : 0.02\n",
      "Board;Action & Adventure : 0.02\n",
      "Video Players & Editors;Creativity : 0.01\n",
      "Trivia;Education : 0.01\n",
      "Travel & Local;Action & Adventure : 0.01\n",
      "Tools;Education : 0.01\n",
      "Strategy;Education : 0.01\n",
      "Strategy;Creativity : 0.01\n",
      "Strategy;Action & Adventure : 0.01\n",
      "Simulation;Education : 0.01\n",
      "Role Playing;Brain Games : 0.01\n",
      "Racing;Pretend Play : 0.01\n",
      "Puzzle;Education : 0.01\n",
      "Parenting;Brain Games : 0.01\n",
      "Music & Audio;Music & Video : 0.01\n",
      "Lifestyle;Pretend Play : 0.01\n",
      "Lifestyle;Education : 0.01\n",
      "Health & Fitness;Education : 0.01\n",
      "Health & Fitness;Action & Adventure : 0.01\n",
      "Entertainment;Education : 0.01\n",
      "Communication;Creativity : 0.01\n",
      "Comics;Creativity : 0.01\n",
      "Casual;Music & Video : 0.01\n",
      "Card;Action & Adventure : 0.01\n",
      "Books & Reference;Education : 0.01\n",
      "Art & Design;Pretend Play : 0.01\n",
      "Art & Design;Action & Adventure : 0.01\n",
      "Arcade;Pretend Play : 0.01\n",
      "Adventure;Education : 0.01\n"
     ]
    }
   ],
   "source": [
    "display_table(GooglePlay,-4)"
   ]
  },
  {
   "cell_type": "markdown",
   "metadata": {},
   "source": [
    "This column creates a more specific partition of the data. For example, you can find subcategories of games like \"Casual;Brain Games\", \"Racing\" and \"Adventure\".\n",
    "\n",
    "Because we want a general idea of how the store works, we'll stick with the 'category' column.\n",
    "\n",
    "While the App Store has more apps designed for fun, the Google Play Store has a better balance between entertainment and practical apps.\n",
    "\n",
    "As I mentioned before, this frequency tables cannot be used to conclude that these are the most downloaded apps, but they give a general idea of the availability of apps.\n",
    "\n",
    "## Most popular apps on the App Store\n",
    "\n",
    "The number of downloads is a good indicator of what people prefer, so we will calculate average number of installs for each app. The Google Play data contains the variable 'Installs', which serves this purpose. Unfortunately, for the App Store data there is not a column with the number of downloads or installs. I will use the number of user ratings as a proxy, which can be found on the 'rating_count_tot'.\n",
    "\n",
    "Let's calculate the average number of ratings by genre on the App Store.\n",
    "First, let's retrieve all of the unique app genres using the previously written function:"
   ]
  },
  {
   "cell_type": "code",
   "execution_count": 23,
   "metadata": {
    "collapsed": false
   },
   "outputs": [
    {
     "name": "stdout",
     "output_type": "stream",
     "text": [
      "Games : 58.16\n",
      "Entertainment : 7.88\n",
      "Photo & Video : 4.97\n",
      "Education : 3.66\n",
      "Social Networking : 3.29\n",
      "Shopping : 2.61\n",
      "Utilities : 2.51\n",
      "Sports : 2.14\n",
      "Music : 2.05\n",
      "Health & Fitness : 2.02\n",
      "Productivity : 1.74\n",
      "Lifestyle : 1.58\n",
      "News : 1.33\n",
      "Travel : 1.24\n",
      "Finance : 1.12\n",
      "Weather : 0.87\n",
      "Food & Drink : 0.81\n",
      "Reference : 0.56\n",
      "Business : 0.53\n",
      "Book : 0.43\n",
      "Navigation : 0.19\n",
      "Medical : 0.19\n",
      "Catalogs : 0.12\n"
     ]
    }
   ],
   "source": [
    "genres=freq_table(AppStore,11)\n",
    "display_table(AppStore,11)"
   ]
  },
  {
   "cell_type": "markdown",
   "metadata": {},
   "source": [
    "Next, I create a nested loop to calculate the average number of ratings:"
   ]
  },
  {
   "cell_type": "code",
   "execution_count": 24,
   "metadata": {
    "collapsed": false
   },
   "outputs": [
    {
     "name": "stdout",
     "output_type": "stream",
     "text": [
      "Average Number of Ratings\n",
      "\n",
      "\n",
      "Utilities :  18684.5\n",
      "\n",
      "\n",
      "Medical :  612.0\n",
      "\n",
      "\n",
      "Music :  57326.5\n",
      "\n",
      "\n",
      "Health & Fitness :  23298.0\n",
      "\n",
      "\n",
      "Productivity :  21028.4\n",
      "\n",
      "\n",
      "Lifestyle :  16485.8\n",
      "\n",
      "\n",
      "Reference :  74942.1\n",
      "\n",
      "\n",
      "Social Networking :  71548.3\n",
      "\n",
      "\n",
      "Sports :  23008.9\n",
      "\n",
      "\n",
      "Finance :  31467.9\n",
      "\n",
      "\n",
      "Travel :  28243.8\n",
      "\n",
      "\n",
      "News :  21248.0\n",
      "\n",
      "\n",
      "Weather :  52279.9\n",
      "\n",
      "\n",
      "Business :  7491.1\n",
      "\n",
      "\n",
      "Navigation :  86090.3\n",
      "\n",
      "\n",
      "Photo & Video :  28441.5\n",
      "\n",
      "\n",
      "Games :  22788.7\n",
      "\n",
      "\n",
      "Entertainment :  14029.8\n",
      "\n",
      "\n",
      "Food & Drink :  33333.9\n",
      "\n",
      "\n",
      "Shopping :  26919.7\n",
      "\n",
      "\n",
      "Catalogs :  4004.0\n",
      "\n",
      "\n",
      "Education :  7004.0\n",
      "\n",
      "\n",
      "Book :  39758.5\n"
     ]
    }
   ],
   "source": [
    "print(\"Average Number of Ratings\")\n",
    "for genre in genres:\n",
    "    total=0\n",
    "    len_genre=0\n",
    "    \n",
    "    for app in AppStore:\n",
    "        genre_app=app[11]  \n",
    "        \n",
    "        if genre_app==genre:\n",
    "            ratings=float(app[5])\n",
    "            total+=ratings\n",
    "            len_genre+=1\n",
    "        \n",
    "    avg_rating=round(total/len_genre,1)\n",
    "    \n",
    "    print(\"\\n\")\n",
    "    print(genre,\": \",avg_rating)"
   ]
  },
  {
   "cell_type": "markdown",
   "metadata": {},
   "source": [
    "On the App Store, the genre with the highest average number of ratings and thus the highest average number of downloads is Navigation. It probably has the most downloads because these apps are used on a daily basis. However, this might be a difficult market to get into due to the existence of very popular apps that dominate this category. Even before checking, it is certain that Google Maps and Waze will be at the top of this category."
   ]
  },
  {
   "cell_type": "code",
   "execution_count": 25,
   "metadata": {
    "collapsed": false
   },
   "outputs": [
    {
     "name": "stdout",
     "output_type": "stream",
     "text": [
      "Waze - GPS Navigation, Maps & Real-time Traffic : 345046\n",
      "Google Maps - Navigation & Transit : 154911\n",
      "Geocaching® : 12811\n",
      "CoPilot GPS – Car Navigation & Offline Maps : 3582\n",
      "ImmobilienScout24: Real Estate Search in Germany : 187\n",
      "Railway Route Search : 5\n"
     ]
    }
   ],
   "source": [
    "for app in AppStore:\n",
    "    if app[11]==\"Navigation\":\n",
    "        print(app[1],\":\",app[5])"
   ]
  },
  {
   "cell_type": "markdown",
   "metadata": {},
   "source": [
    "So this might not be the best genre if you want the most engagement.\n",
    "\n",
    "The second genre with the highest average number of ratings is Reference, this is a good category to develop an app on, because it is used by a wide audience and can be used on a daily basis at schools and universities, for example. Adding non intrusive ads could lead to a great business model."
   ]
  },
  {
   "cell_type": "code",
   "execution_count": 26,
   "metadata": {
    "collapsed": false
   },
   "outputs": [
    {
     "name": "stdout",
     "output_type": "stream",
     "text": [
      "Bible : 985920\n",
      "Dictionary.com Dictionary & Thesaurus : 200047\n",
      "Dictionary.com Dictionary & Thesaurus for iPad : 54175\n",
      "Google Translate : 26786\n",
      "Muslim Pro: Ramadan 2017 Prayer Times, Azan, Quran : 18418\n",
      "New Furniture Mods - Pocket Wiki & Game Tools for Minecraft PC Edition : 17588\n",
      "Merriam-Webster Dictionary : 16849\n",
      "Night Sky : 12122\n",
      "City Maps for Minecraft PE - The Best Maps for Minecraft Pocket Edition (MCPE) : 8535\n",
      "LUCKY BLOCK MOD ™ for Minecraft PC Edition - The Best Pocket Wiki & Mods Installer Tools : 4693\n",
      "GUNS MODS for Minecraft PC Edition - Mods Tools : 1497\n",
      "Guides for Pokémon GO - Pokemon GO News and Cheats : 826\n",
      "WWDC : 762\n",
      "Horror Maps for Minecraft PE - Download The Scariest Maps for Minecraft Pocket Edition (MCPE) Free : 718\n",
      "VPN Express : 14\n",
      "Real Bike Traffic Rider Virtual Reality Glasses : 8\n",
      "教えて!goo : 0\n",
      "Jishokun-Japanese English Dictionary & Translator : 0\n"
     ]
    }
   ],
   "source": [
    "for app in AppStore:\n",
    "    if app[-5]==\"Reference\":\n",
    "        print(app[1],\":\",app[5])"
   ]
  },
  {
   "cell_type": "markdown",
   "metadata": {},
   "source": [
    "Unfortunately, the number of downloads here is also skewed due to the Bible, dictionaries and Google Translate."
   ]
  },
  {
   "cell_type": "markdown",
   "metadata": {},
   "source": [
    "\n",
    "Social Networking probably suffers form this too, clearly apps like Facebook, Messenger and Whatsapp will have a greater number of reviews than the other apps on this genre."
   ]
  },
  {
   "cell_type": "code",
   "execution_count": 27,
   "metadata": {
    "collapsed": false
   },
   "outputs": [
    {
     "name": "stdout",
     "output_type": "stream",
     "text": [
      "Facebook : 2974676\n",
      "Pinterest : 1061624\n",
      "Skype for iPhone : 373519\n",
      "Messenger : 351466\n",
      "Tumblr : 334293\n",
      "WhatsApp Messenger : 287589\n",
      "Kik : 260965\n",
      "ooVoo – Free Video Call, Text and Voice : 177501\n",
      "TextNow - Unlimited Text + Calls : 164963\n",
      "Viber Messenger – Text & Call : 164249\n",
      "Followers - Social Analytics For Instagram : 112778\n",
      "MeetMe - Chat and Meet New People : 97072\n",
      "We Heart It - Fashion, wallpapers, quotes, tattoos : 90414\n",
      "InsTrack for Instagram - Analytics Plus More : 85535\n",
      "Tango - Free Video Call, Voice and Chat : 75412\n",
      "LinkedIn : 71856\n",
      "Match™ - #1 Dating App. : 60659\n",
      "Skype for iPad : 60163\n",
      "POF - Best Dating App for Conversations : 52642\n",
      "Timehop : 49510\n",
      "Find My Family, Friends & iPhone - Life360 Locator : 43877\n",
      "Whisper - Share, Express, Meet : 39819\n",
      "Hangouts : 36404\n",
      "LINE PLAY - Your Avatar World : 34677\n",
      "WeChat : 34584\n",
      "Badoo - Meet New People, Chat, Socialize. : 34428\n",
      "Followers + for Instagram - Follower Analytics : 28633\n",
      "GroupMe : 28260\n",
      "Marco Polo Video Walkie Talkie : 27662\n",
      "Miitomo : 23965\n",
      "SimSimi : 23530\n",
      "Grindr - Gay and same sex guys chat, meet and date : 23201\n",
      "Wishbone - Compare Anything : 20649\n",
      "imo video calls and chat : 18841\n",
      "After School - Funny Anonymous School News : 18482\n",
      "Quick Reposter - Repost, Regram and Reshare Photos : 17694\n",
      "Weibo HD : 16772\n",
      "Repost for Instagram : 15185\n",
      "Live.me – Live Video Chat & Make Friends Nearby : 14724\n",
      "Nextdoor : 14402\n",
      "Followers Analytics for Instagram - InstaReport : 13914\n",
      "YouNow: Live Stream Video Chat : 12079\n",
      "FollowMeter for Instagram - Followers Tracking : 11976\n",
      "LINE : 11437\n",
      "eHarmony™ Dating App - Meet Singles : 11124\n",
      "Discord - Chat for Gamers : 9152\n",
      "QQ : 9109\n",
      "Telegram Messenger : 7573\n",
      "Weibo : 7265\n",
      "Periscope - Live Video Streaming Around the World : 6062\n",
      "Chat for Whatsapp - iPad Version : 5060\n",
      "QQ HD : 5058\n",
      "Followers Analysis Tool For Instagram App Free : 4253\n",
      "live.ly - live video streaming : 4145\n",
      "Houseparty - Group Video Chat : 3991\n",
      "SOMA Messenger : 3232\n",
      "Monkey : 3060\n",
      "Down To Lunch : 2535\n",
      "Flinch - Video Chat Staring Contest : 2134\n",
      "Highrise - Your Avatar Community : 2011\n",
      "LOVOO - Dating Chat : 1985\n",
      "PlayStation®Messages : 1918\n",
      "BOO! - Video chat camera with filters & stickers : 1805\n",
      "Qzone : 1649\n",
      "Chatous - Chat with new people : 1609\n",
      "Kiwi - Q&A : 1538\n",
      "GhostCodes - a discovery app for Snapchat : 1313\n",
      "Jodel : 1193\n",
      "FireChat : 1037\n",
      "Google Duo - simple video calling : 1033\n",
      "Fiesta by Tango - Chat & Meet New People : 885\n",
      "Google Allo — smart messaging : 862\n",
      "Peach — share vividly : 727\n",
      "Hey! VINA - Where Women Meet New Friends : 719\n",
      "Battlefield™ Companion : 689\n",
      "All Devices for WhatsApp - Messenger for iPad : 682\n",
      "Chat for Pokemon Go - GoChat : 500\n",
      "IAmNaughty – Dating App to Meet New People Online : 463\n",
      "Qzone HD : 458\n",
      "Zenly - Locate your friends in realtime : 427\n",
      "League of Legends Friends : 420\n",
      "豆瓣 : 407\n",
      "Candid - Speak Your Mind Freely : 398\n",
      "知乎 : 397\n",
      "Selfeo : 366\n",
      "Fake-A-Location Free ™ : 354\n",
      "Popcorn Buzz - Free Group Calls : 281\n",
      "Fam — Group video calling for iMessage : 279\n",
      "QQ International : 274\n",
      "Ameba : 269\n",
      "SoundCloud Pulse: for creators : 240\n",
      "Tantan : 235\n",
      "Cougar Dating & Life Style App for Mature Women : 213\n",
      "Rawr Messenger - Dab your chat : 180\n",
      "WhenToPost: Best Time to Post Photos for Instagram : 158\n",
      "Inke—Broadcast an amazing life : 147\n",
      "Mustknow - anonymous video Q&A : 53\n",
      "CTFxCmoji : 39\n",
      "Lobi : 36\n",
      "Chain: Collaborate On MyVideo Story/Group Video : 35\n",
      "botman - Real time video chat : 7\n",
      "BestieBox : 0\n",
      "MATCH ON LINE chat : 0\n",
      "niconico ch : 0\n",
      "LINE BLOG : 0\n",
      "bit-tube - Live Stream Video Chat : 0\n"
     ]
    }
   ],
   "source": [
    "for app in AppStore:\n",
    "    if app[-5]==\"Social Networking\":\n",
    "        print(app[1],\":\",app[5])"
   ]
  },
  {
   "cell_type": "markdown",
   "metadata": {},
   "source": [
    "Still, over the years several messaging apps and apps that connect people in general have appeared. This could be a good opportunity to come up with a fresh app, which expands on the features of existing apps and acquires a fair number of users that could be shown ads. But we want the highest number of users possible, so let's try a different category.\n",
    "\n",
    "Taking a look at the \"Finance\" and \"Book\" categories, both of these are apps that can reach a wide audience, specially the \"Book\" genre. They are also apps that can be used daily, an audiobook that gets listened to over a month, a finance app which you have to access daily in order to track your expenses.\n",
    "Both of these categories will receive the most engagement and are also not among the most common apps on the App Store, which means less competition for the app, and a higher probability of being seen.\n",
    "\n",
    "## Most popular apps on the Google Play Store\n",
    "\n",
    "I'm going to use the 'Installs' column in order to see which apps are the most downloaded."
   ]
  },
  {
   "cell_type": "code",
   "execution_count": 29,
   "metadata": {
    "collapsed": false
   },
   "outputs": [
    {
     "name": "stdout",
     "output_type": "stream",
     "text": [
      "1,000,000+ : 15.73\n",
      "100,000+ : 11.55\n",
      "10,000,000+ : 10.55\n",
      "10,000+ : 10.2\n",
      "1,000+ : 8.39\n",
      "100+ : 6.92\n",
      "5,000,000+ : 6.83\n",
      "500,000+ : 5.56\n",
      "50,000+ : 4.77\n",
      "5,000+ : 4.51\n",
      "10+ : 3.54\n",
      "500+ : 3.25\n",
      "50,000,000+ : 2.3\n",
      "100,000,000+ : 2.13\n",
      "50+ : 1.92\n",
      "5+ : 0.79\n",
      "1+ : 0.51\n",
      "500,000,000+ : 0.27\n",
      "1,000,000,000+ : 0.23\n",
      "0+ : 0.05\n",
      "0 : 0.01\n"
     ]
    }
   ],
   "source": [
    "display_table(GooglePlay,5)"
   ]
  },
  {
   "cell_type": "markdown",
   "metadata": {},
   "source": [
    "As we can see above the numbers of installs is not precise, but we don't need the exact number, we only want to find out which genres will attract the most users.\n",
    "In order to make the analysis easier, the apps that have a \"100,000+\" will be taken as if they had 100,000 installs, the ones with \"1,000,000+\" as if they had 1,000,000 installs, etc.\n",
    "In order to work with this numbers, I'm going to remove the commas and the plus characters. We also calculate the average number of installs per genre. "
   ]
  },
  {
   "cell_type": "code",
   "execution_count": 34,
   "metadata": {
    "collapsed": false
   },
   "outputs": [
    {
     "name": "stdout",
     "output_type": "stream",
     "text": [
      "BEAUTY :  513152\n",
      "DATING :  854029\n",
      "SHOPPING :  7036877\n",
      "TRAVEL_AND_LOCAL :  13984078\n",
      "AUTO_AND_VEHICLES :  647318\n",
      "HOUSE_AND_HOME :  1331541\n",
      "EVENTS :  253542\n",
      "PERSONALIZATION :  5201483\n",
      "PARENTING :  542604\n",
      "GAME :  15588016\n",
      "FAMILY :  3695642\n",
      "WEATHER :  5074486\n",
      "ENTERTAINMENT :  11640706\n",
      "TOOLS :  10801391\n",
      "PHOTOGRAPHY :  17840110\n",
      "COMICS :  817657\n",
      "MEDICAL :  120551\n",
      "FINANCE :  1387692\n",
      "BOOKS_AND_REFERENCE :  8767812\n",
      "ART_AND_DESIGN :  1986335\n",
      "COMMUNICATION :  38456119\n",
      "LIBRARIES_AND_DEMO :  638504\n",
      "HEALTH_AND_FITNESS :  4188822\n",
      "SPORTS :  3638640\n",
      "BUSINESS :  1712290\n",
      "NEWS_AND_MAGAZINES :  9549178\n",
      "MAPS_AND_NAVIGATION :  4056942\n",
      "PRODUCTIVITY :  16787331\n",
      "VIDEO_PLAYERS :  24727872\n",
      "FOOD_AND_DRINK :  1924898\n",
      "SOCIAL :  23253652\n",
      "LIFESTYLE :  1437816\n",
      "EDUCATION :  1833495\n"
     ]
    }
   ],
   "source": [
    "categories_GP=freq_table(GooglePlay,1)\n",
    "\n",
    "for category in categories_GP:\n",
    "    total=0\n",
    "    length=0\n",
    "    \n",
    "    for app in GooglePlay:\n",
    "        if category==app[1]:\n",
    "            nInstall=app[5]\n",
    "            nInstall=nInstall.replace(\"+\",'')\n",
    "            nInstall=nInstall.replace(\",\",'')\n",
    "            total+=float(nInstall)\n",
    "            length+=1\n",
    "    print(category,\": \",round(total/length))"
   ]
  },
  {
   "cell_type": "markdown",
   "metadata": {},
   "source": [
    "The genres that have the most installs are 'Communication' and 'Video_Players' The first two are heavily influenced by the most popular apps: 'Communication' by Whatsapp, Android messengers and Skype. 'Video_Players' by Google Play and Youtube. \n",
    "The same happens to the social, entertainment, photography and productivity genres.\n",
    "\n",
    "The 'Game' genre is popular, but as we saw earlier it is a market with a lot of competition.\n",
    "\n",
    "A genre that is popular and is not as competitive would be the \"Books and Reference\" genre, this genre is not dominated by popular apps. This genre also matches our findings on the App Store, which means a bigger audience that can download the app.\n",
    "\n",
    "Only a few number of popular apps skew the genre on this category, but this genre still has potential."
   ]
  },
  {
   "cell_type": "code",
   "execution_count": 41,
   "metadata": {
    "collapsed": false
   },
   "outputs": [
    {
     "name": "stdout",
     "output_type": "stream",
     "text": [
      "Google Play Books :  1,000,000,000+\n",
      "Bible :  100,000,000+\n",
      "Amazon Kindle :  100,000,000+\n",
      "Wattpad 📖 Free Books :  100,000,000+\n",
      "Audiobooks from Audible :  100,000,000+\n"
     ]
    }
   ],
   "source": [
    "for app in GooglePlay:\n",
    "    if app[1]==\"BOOKS_AND_REFERENCE\" and (app[5]=='1,000,000,000+'\n",
    "                                            or app[5] == '500,000,000+'\n",
    "                                            or app[5] == '100,000,000+'):\n",
    "        print(app[0],\": \",app[5])"
   ]
  },
  {
   "cell_type": "markdown",
   "metadata": {},
   "source": [
    "Let's take a look at the apps we can find on this category and are on the middle range of popularity:"
   ]
  },
  {
   "cell_type": "code",
   "execution_count": 44,
   "metadata": {
    "collapsed": false
   },
   "outputs": [
    {
     "name": "stdout",
     "output_type": "stream",
     "text": [
      "Wikipedia :  10,000,000+\n",
      "Cool Reader :  10,000,000+\n",
      "Book store :  1,000,000+\n",
      "FBReader: Favorite Book Reader :  10,000,000+\n",
      "Free Books - Spirit Fanfiction and Stories :  1,000,000+\n",
      "AlReader -any text book reader :  5,000,000+\n",
      "FamilySearch Tree :  1,000,000+\n",
      "Cloud of Books :  1,000,000+\n",
      "ReadEra – free ebook reader :  1,000,000+\n",
      "Ebook Reader :  5,000,000+\n",
      "Read books online :  5,000,000+\n",
      "eBoox: book reader fb2 epub zip :  1,000,000+\n",
      "All Maths Formulas :  1,000,000+\n",
      "Ancestry :  5,000,000+\n",
      "HTC Help :  10,000,000+\n",
      "Moon+ Reader :  10,000,000+\n",
      "English-Myanmar Dictionary :  1,000,000+\n",
      "Golden Dictionary (EN-AR) :  1,000,000+\n",
      "All Language Translator Free :  1,000,000+\n",
      "Aldiko Book Reader :  10,000,000+\n",
      "Dictionary - WordWeb :  5,000,000+\n",
      "50000 Free eBooks & Free AudioBooks :  5,000,000+\n",
      "Al-Quran (Free) :  10,000,000+\n",
      "Al Quran Indonesia :  10,000,000+\n",
      "Al'Quran Bahasa Indonesia :  10,000,000+\n",
      "Al Quran Al karim :  1,000,000+\n",
      "Al Quran : EAlim - Translations & MP3 Offline :  5,000,000+\n",
      "Koran Read &MP3 30 Juz Offline :  1,000,000+\n",
      "Hafizi Quran 15 lines per page :  1,000,000+\n",
      "Quran for Android :  10,000,000+\n",
      "Satellite AR :  1,000,000+\n",
      "Oxford A-Z of English Usage :  1,000,000+\n",
      "Dictionary.com: Find Definitions for English Words :  10,000,000+\n",
      "English Dictionary - Offline :  10,000,000+\n",
      "Bible KJV :  5,000,000+\n",
      "NOOK: Read eBooks & Magazines :  10,000,000+\n",
      "Brilliant Quotes: Life, Love, Family & Motivation :  1,000,000+\n",
      "Stats Royale for Clash Royale :  1,000,000+\n",
      "Dictionary :  10,000,000+\n",
      "wikiHow: how to do anything :  1,000,000+\n",
      "EGW Writings :  1,000,000+\n",
      "My Little Pony AR Guide :  1,000,000+\n",
      "Spanish English Translator :  10,000,000+\n",
      "Dictionary - Merriam-Webster :  10,000,000+\n",
      "JW Library :  10,000,000+\n",
      "Oxford Dictionary of English : Free :  10,000,000+\n",
      "English Hindi Dictionary :  10,000,000+\n",
      "English to Hindi Dictionary :  5,000,000+\n"
     ]
    }
   ],
   "source": [
    "for app in GooglePlay:\n",
    "    if app[1]==\"BOOKS_AND_REFERENCE\" and (app[5] == '1,000,000+'\n",
    "                                            or app[5] == '5,000,000+'\n",
    "                                            or app[5] == '10,000,000+'\n",
    "                                            or app[5] == '50,000,000+'):\n",
    "        print(app[0],\": \",app[5])"
   ]
  },
  {
   "cell_type": "markdown",
   "metadata": {},
   "source": [
    "We can see there's a lot of apps that are for eBooks, some language books and dictionaries. Creating a new app about a popular subject, seems to be the best way to get to the top. For example here we have several Quran apps, apps about Clash Royale and My Little Pony, so this would be a great way to get more engagement. Maybe creating an audio version, interactive version or an app with questions about the book, would be the best way to go.\n",
    "\n",
    "## Conclusions\n",
    "\n",
    "The analysis we did with the App Store and Google Play Store coincides that the best genre to create a free app, in order to earn profits through advertisements is the book genre. With a little of innovation to give a spin on an already existing popular book, an app developer can reach both the Google Play and App Store audiences, create an app on a market that is not saturated and have millions of downloads on their app."
   ]
  },
  {
   "cell_type": "markdown",
   "metadata": {},
   "source": [
    "### References:\n",
    "\n",
    "* Clement, J. (2020). Android & iOS free and paid apps share 2020. Statista. Retrieved 25 March 2020, from https://www.statista.com/statistics/263797/number-of-applications-for-mobile-phones/.\n",
    "\n",
    "* Clement, J. (2020). Apple App Store revenue 2019. Statista. Retrieved 20 March 2020, from https://www.statista.com/statistics/296226/annual-apple-app-store-revenue/.\n"
   ]
  }
 ],
 "metadata": {
  "kernelspec": {
   "display_name": "Python 3",
   "language": "python",
   "name": "python3"
  },
  "language_info": {
   "codemirror_mode": {
    "name": "ipython",
    "version": 3
   },
   "file_extension": ".py",
   "mimetype": "text/x-python",
   "name": "python",
   "nbconvert_exporter": "python",
   "pygments_lexer": "ipython3",
   "version": "3.4.3"
  }
 },
 "nbformat": 4,
 "nbformat_minor": 2
}
